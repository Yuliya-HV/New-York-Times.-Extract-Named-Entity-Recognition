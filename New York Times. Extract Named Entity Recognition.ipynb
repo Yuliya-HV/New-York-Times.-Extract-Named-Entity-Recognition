{
 "cells": [
  {
   "cell_type": "markdown",
   "metadata": {},
   "source": [
    "# New York Times. Extract Named Entity Recognition"
   ]
  },
  {
   "cell_type": "code",
   "execution_count": 1,
   "metadata": {},
   "outputs": [],
   "source": [
    "import pandas as pd\n",
    "import numpy as np\n",
    "import matplotlib.pyplot as plt\n",
    "import nltk\n",
    "import pymysql\n",
    "import time\n",
    "import seaborn as sns\n",
    "import spacy"
   ]
  },
  {
   "cell_type": "markdown",
   "metadata": {},
   "source": [
    "Analyse titles from public available data through NYT API. \n",
    "Titles are stored in MySQL database in a table NYT_ARTICLES."
   ]
  },
  {
   "cell_type": "code",
   "execution_count": 2,
   "metadata": {},
   "outputs": [
    {
     "name": "stdout",
     "output_type": "stream",
     "text": [
      "Connected to MySQL.\n"
     ]
    }
   ],
   "source": [
    "#connect to MySQL database\n",
    "\n",
    "conn = pymysql.connect(db=\"db\",\n",
    "                       user=\"user\",\n",
    "                       passwd=\"password\",\n",
    "                       host= \"host\", \n",
    "                       port = 3306\n",
    "                       )\n",
    "print('Connected to MySQL.')\n",
    "\n",
    "cursor = conn.cursor()"
   ]
  },
  {
   "cell_type": "code",
   "execution_count": 21,
   "metadata": {},
   "outputs": [],
   "source": [
    "sql_query_select = \"SELECT title FROM DT_NYT.V_NYT_ARTICLE_INFO_7;\"\n",
    "sql_select_id = \"select id_info from NYT_ARTICLE_INFO_7\"\n",
    "sql_insert = \"INSERT INTO NYT_ARTICLE_INFO_7_NER (id_info, 'PERSON', 'GPE', 'NORP', 'FAC', 'ORG', 'LOC', 'PRODUCT', 'EVENT', 'WORK_OF_ART') VALUES (%s, %s, %s, %s, %s, %s, %s, %s, %s, %s)\""
   ]
  },
  {
   "cell_type": "code",
   "execution_count": 8,
   "metadata": {},
   "outputs": [],
   "source": [
    "df = pd.read_sql(sql_query_select, conn)"
   ]
  },
  {
   "cell_type": "code",
   "execution_count": 6,
   "metadata": {},
   "outputs": [],
   "source": [
    "nlp = spacy.load('en', entity = False, parser = False)\n",
    "entities = ['PERSON', 'GPE', 'NORP', 'FAC', 'ORG', 'LOC', 'PRODUCT', 'EVENT', 'WORK_OF_ART']\n",
    "\n",
    "#df_q2['GoldParse'] = df.output_ne.apply(lambda x: GoldParse(nlp.make_doc(x), entities).orig_annot)"
   ]
  },
  {
   "cell_type": "code",
   "execution_count": 11,
   "metadata": {},
   "outputs": [
    {
     "name": "stdout",
     "output_type": "stream",
     "text": [
      "Running time: 267.72 mins\n"
     ]
    }
   ],
   "source": [
    "t = time.time()\n",
    "\n",
    "#transform articles in Spacy nlp format\n",
    "df['title_nlp'] = df.title.apply(lambda x: nlp(x))\n",
    "\n",
    "print('Running time: {} mins'.format(round((time.time() - t) / 60, 2)))"
   ]
  },
  {
   "cell_type": "code",
   "execution_count": 12,
   "metadata": {},
   "outputs": [],
   "source": [
    "#extract country, city, person name most probable in the articles per event\n",
    "df['NER'] = df.title_nlp.apply(lambda x: '; '.join(item for item in set([ent.text for ent in x.ents \n",
    "                                                                 if ent.label_ in entities])))"
   ]
  },
  {
   "cell_type": "code",
   "execution_count": 18,
   "metadata": {},
   "outputs": [],
   "source": [
    "df['PERSON'] = df.title_nlp.apply(lambda x: '; '.join(item for item in set([ent.text for ent in x.ents \n",
    "                                                                 if ent.label_== entities[0]])))\n",
    "df['GPE'] = df.title_nlp.apply(lambda x: '; '.join(item for item in set([ent.text for ent in x.ents \n",
    "                                                                 if ent.label_== entities[1]])))\n",
    "df['NOPR'] = df.title_nlp.apply(lambda x: '; '.join(item for item in set([ent.text for ent in x.ents \n",
    "                                                                 if ent.label_== entities[2]])))\n",
    "df['FAC'] = df.title_nlp.apply(lambda x: '; '.join(item for item in set([ent.text for ent in x.ents \n",
    "                                                                 if ent.label_== entities[3]])))\n",
    "df['ORG'] = df.title_nlp.apply(lambda x: '; '.join(item for item in set([ent.text for ent in x.ents \n",
    "                                                                 if ent.label_== entities[4]])))\n",
    "df['LOC'] = df.title_nlp.apply(lambda x: '; '.join(item for item in set([ent.text for ent in x.ents \n",
    "                                                                 if ent.label_== entities[5]])))\n",
    "df['PRODUCT'] = df.title_nlp.apply(lambda x: '; '.join(item for item in set([ent.text for ent in x.ents \n",
    "                                                                 if ent.label_== entities[6]])))\n",
    "df['EVENT'] = df.title_nlp.apply(lambda x: '; '.join(item for item in set([ent.text for ent in x.ents \n",
    "                                                                 if ent.label_== entities[7]])))\n",
    "df['WORK_OF_ART'] = df.title_nlp.apply(lambda x: '; '.join(item for item in set([ent.text for ent in x.ents \n",
    "                                                                 if ent.label_== entities[8]])))"
   ]
  },
  {
   "cell_type": "code",
   "execution_count": 22,
   "metadata": {},
   "outputs": [],
   "source": [
    "df_id = pd.read_sql(sql_select_id, conn)"
   ]
  },
  {
   "cell_type": "code",
   "execution_count": 24,
   "metadata": {},
   "outputs": [],
   "source": [
    "df.drop('title', axis = 1 , inplace = True)\n",
    "df.drop('title_nlp', axis = 1 , inplace = True)\n",
    "df.drop('NER', axis = 1 , inplace = True)"
   ]
  },
  {
   "cell_type": "code",
   "execution_count": 25,
   "metadata": {},
   "outputs": [],
   "source": [
    "df0 = pd.concat([df_id, df], axis = 1)\n",
    "df0.to_csv('NER.csv')"
   ]
  }
 ],
 "metadata": {
  "kernelspec": {
   "display_name": "Python 3",
   "language": "python",
   "name": "python3"
  },
  "language_info": {
   "codemirror_mode": {
    "name": "ipython",
    "version": 3
   },
   "file_extension": ".py",
   "mimetype": "text/x-python",
   "name": "python",
   "nbconvert_exporter": "python",
   "pygments_lexer": "ipython3",
   "version": "3.6.5"
  }
 },
 "nbformat": 4,
 "nbformat_minor": 2
}
